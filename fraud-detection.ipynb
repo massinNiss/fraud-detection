{
 "cells": [
  {
   "cell_type": "code",
   "execution_count": 1,
   "id": "03db99f5",
   "metadata": {
    "_cell_guid": "b1076dfc-b9ad-4769-8c92-a6c4dae69d19",
    "_uuid": "8f2839f25d086af736a60e9eeb907d3b93b6e0e5",
    "execution": {
     "iopub.execute_input": "2024-04-04T02:20:27.704103Z",
     "iopub.status.busy": "2024-04-04T02:20:27.703641Z",
     "iopub.status.idle": "2024-04-04T02:20:28.845841Z",
     "shell.execute_reply": "2024-04-04T02:20:28.844477Z"
    },
    "papermill": {
     "duration": 1.16047,
     "end_time": "2024-04-04T02:20:28.849159",
     "exception": false,
     "start_time": "2024-04-04T02:20:27.688689",
     "status": "completed"
    },
    "tags": []
   },
   "outputs": [],
   "source": [
    "#import necessary packages\n",
    "import pandas as pd\n",
    "import matplotlib.pyplot as plt"
   ]
  },
  {
   "cell_type": "markdown",
   "id": "f5ec2223",
   "metadata": {
    "papermill": {
     "duration": 0.011312,
     "end_time": "2024-04-04T02:20:28.872509",
     "exception": false,
     "start_time": "2024-04-04T02:20:28.861197",
     "status": "completed"
    },
    "tags": []
   },
   "source": [
    "# Load CVS file"
   ]
  },
  {
   "cell_type": "code",
   "execution_count": 2,
   "id": "87d33534",
   "metadata": {
    "execution": {
     "iopub.execute_input": "2024-04-04T02:20:28.899763Z",
     "iopub.status.busy": "2024-04-04T02:20:28.898064Z",
     "iopub.status.idle": "2024-04-04T02:20:50.121084Z",
     "shell.execute_reply": "2024-04-04T02:20:50.119650Z"
    },
    "papermill": {
     "duration": 21.23984,
     "end_time": "2024-04-04T02:20:50.124431",
     "exception": false,
     "start_time": "2024-04-04T02:20:28.884591",
     "status": "completed"
    },
    "tags": []
   },
   "outputs": [],
   "source": [
    "train_data = pd.read_csv(\"/kaggle/input/fraud-detection/fraudTest.csv\", index_col=\"Unnamed: 0\")\n",
    "test_data = pd.read_csv(\"/kaggle/input/fraud-detection/fraudTrain.csv\", index_col=\"Unnamed: 0\")"
   ]
  },
  {
   "cell_type": "code",
   "execution_count": 3,
   "id": "e9a619d9",
   "metadata": {
    "execution": {
     "iopub.execute_input": "2024-04-04T02:20:50.151160Z",
     "iopub.status.busy": "2024-04-04T02:20:50.150723Z",
     "iopub.status.idle": "2024-04-04T02:20:50.895666Z",
     "shell.execute_reply": "2024-04-04T02:20:50.894228Z"
    },
    "papermill": {
     "duration": 0.763013,
     "end_time": "2024-04-04T02:20:50.899930",
     "exception": false,
     "start_time": "2024-04-04T02:20:50.136917",
     "status": "completed"
    },
    "tags": []
   },
   "outputs": [
    {
     "name": "stdout",
     "output_type": "stream",
     "text": [
      "<class 'pandas.core.frame.DataFrame'>\n",
      "Index: 555719 entries, 0 to 555718\n",
      "Data columns (total 22 columns):\n",
      " #   Column                 Non-Null Count   Dtype  \n",
      "---  ------                 --------------   -----  \n",
      " 0   trans_date_trans_time  555719 non-null  object \n",
      " 1   cc_num                 555719 non-null  int64  \n",
      " 2   merchant               555719 non-null  object \n",
      " 3   category               555719 non-null  object \n",
      " 4   amt                    555719 non-null  float64\n",
      " 5   first                  555719 non-null  object \n",
      " 6   last                   555719 non-null  object \n",
      " 7   gender                 555719 non-null  object \n",
      " 8   street                 555719 non-null  object \n",
      " 9   city                   555719 non-null  object \n",
      " 10  state                  555719 non-null  object \n",
      " 11  zip                    555719 non-null  int64  \n",
      " 12  lat                    555719 non-null  float64\n",
      " 13  long                   555719 non-null  float64\n",
      " 14  city_pop               555719 non-null  int64  \n",
      " 15  job                    555719 non-null  object \n",
      " 16  dob                    555719 non-null  object \n",
      " 17  trans_num              555719 non-null  object \n",
      " 18  unix_time              555719 non-null  int64  \n",
      " 19  merch_lat              555719 non-null  float64\n",
      " 20  merch_long             555719 non-null  float64\n",
      " 21  is_fraud               555719 non-null  int64  \n",
      "dtypes: float64(5), int64(5), object(12)\n",
      "memory usage: 97.5+ MB\n"
     ]
    }
   ],
   "source": [
    "train_data.info()"
   ]
  },
  {
   "cell_type": "code",
   "execution_count": 4,
   "id": "76c1a051",
   "metadata": {
    "execution": {
     "iopub.execute_input": "2024-04-04T02:20:50.927305Z",
     "iopub.status.busy": "2024-04-04T02:20:50.926787Z",
     "iopub.status.idle": "2024-04-04T02:20:50.968254Z",
     "shell.execute_reply": "2024-04-04T02:20:50.967120Z"
    },
    "papermill": {
     "duration": 0.058099,
     "end_time": "2024-04-04T02:20:50.971011",
     "exception": false,
     "start_time": "2024-04-04T02:20:50.912912",
     "status": "completed"
    },
    "tags": []
   },
   "outputs": [
    {
     "data": {
      "text/html": [
       "<div>\n",
       "<style scoped>\n",
       "    .dataframe tbody tr th:only-of-type {\n",
       "        vertical-align: middle;\n",
       "    }\n",
       "\n",
       "    .dataframe tbody tr th {\n",
       "        vertical-align: top;\n",
       "    }\n",
       "\n",
       "    .dataframe thead th {\n",
       "        text-align: right;\n",
       "    }\n",
       "</style>\n",
       "<table border=\"1\" class=\"dataframe\">\n",
       "  <thead>\n",
       "    <tr style=\"text-align: right;\">\n",
       "      <th></th>\n",
       "      <th>trans_date_trans_time</th>\n",
       "      <th>cc_num</th>\n",
       "      <th>merchant</th>\n",
       "      <th>category</th>\n",
       "      <th>amt</th>\n",
       "      <th>first</th>\n",
       "      <th>last</th>\n",
       "      <th>gender</th>\n",
       "      <th>street</th>\n",
       "      <th>city</th>\n",
       "      <th>...</th>\n",
       "      <th>lat</th>\n",
       "      <th>long</th>\n",
       "      <th>city_pop</th>\n",
       "      <th>job</th>\n",
       "      <th>dob</th>\n",
       "      <th>trans_num</th>\n",
       "      <th>unix_time</th>\n",
       "      <th>merch_lat</th>\n",
       "      <th>merch_long</th>\n",
       "      <th>is_fraud</th>\n",
       "    </tr>\n",
       "  </thead>\n",
       "  <tbody>\n",
       "    <tr>\n",
       "      <th>0</th>\n",
       "      <td>2020-06-21 12:14:25</td>\n",
       "      <td>2291163933867244</td>\n",
       "      <td>fraud_Kirlin and Sons</td>\n",
       "      <td>personal_care</td>\n",
       "      <td>2.86</td>\n",
       "      <td>Jeff</td>\n",
       "      <td>Elliott</td>\n",
       "      <td>M</td>\n",
       "      <td>351 Darlene Green</td>\n",
       "      <td>Columbia</td>\n",
       "      <td>...</td>\n",
       "      <td>33.9659</td>\n",
       "      <td>-80.9355</td>\n",
       "      <td>333497</td>\n",
       "      <td>Mechanical engineer</td>\n",
       "      <td>1968-03-19</td>\n",
       "      <td>2da90c7d74bd46a0caf3777415b3ebd3</td>\n",
       "      <td>1371816865</td>\n",
       "      <td>33.986391</td>\n",
       "      <td>-81.200714</td>\n",
       "      <td>0</td>\n",
       "    </tr>\n",
       "    <tr>\n",
       "      <th>1</th>\n",
       "      <td>2020-06-21 12:14:33</td>\n",
       "      <td>3573030041201292</td>\n",
       "      <td>fraud_Sporer-Keebler</td>\n",
       "      <td>personal_care</td>\n",
       "      <td>29.84</td>\n",
       "      <td>Joanne</td>\n",
       "      <td>Williams</td>\n",
       "      <td>F</td>\n",
       "      <td>3638 Marsh Union</td>\n",
       "      <td>Altonah</td>\n",
       "      <td>...</td>\n",
       "      <td>40.3207</td>\n",
       "      <td>-110.4360</td>\n",
       "      <td>302</td>\n",
       "      <td>Sales professional, IT</td>\n",
       "      <td>1990-01-17</td>\n",
       "      <td>324cc204407e99f51b0d6ca0055005e7</td>\n",
       "      <td>1371816873</td>\n",
       "      <td>39.450498</td>\n",
       "      <td>-109.960431</td>\n",
       "      <td>0</td>\n",
       "    </tr>\n",
       "    <tr>\n",
       "      <th>2</th>\n",
       "      <td>2020-06-21 12:14:53</td>\n",
       "      <td>3598215285024754</td>\n",
       "      <td>fraud_Swaniawski, Nitzsche and Welch</td>\n",
       "      <td>health_fitness</td>\n",
       "      <td>41.28</td>\n",
       "      <td>Ashley</td>\n",
       "      <td>Lopez</td>\n",
       "      <td>F</td>\n",
       "      <td>9333 Valentine Point</td>\n",
       "      <td>Bellmore</td>\n",
       "      <td>...</td>\n",
       "      <td>40.6729</td>\n",
       "      <td>-73.5365</td>\n",
       "      <td>34496</td>\n",
       "      <td>Librarian, public</td>\n",
       "      <td>1970-10-21</td>\n",
       "      <td>c81755dbbbea9d5c77f094348a7579be</td>\n",
       "      <td>1371816893</td>\n",
       "      <td>40.495810</td>\n",
       "      <td>-74.196111</td>\n",
       "      <td>0</td>\n",
       "    </tr>\n",
       "    <tr>\n",
       "      <th>3</th>\n",
       "      <td>2020-06-21 12:15:15</td>\n",
       "      <td>3591919803438423</td>\n",
       "      <td>fraud_Haley Group</td>\n",
       "      <td>misc_pos</td>\n",
       "      <td>60.05</td>\n",
       "      <td>Brian</td>\n",
       "      <td>Williams</td>\n",
       "      <td>M</td>\n",
       "      <td>32941 Krystal Mill Apt. 552</td>\n",
       "      <td>Titusville</td>\n",
       "      <td>...</td>\n",
       "      <td>28.5697</td>\n",
       "      <td>-80.8191</td>\n",
       "      <td>54767</td>\n",
       "      <td>Set designer</td>\n",
       "      <td>1987-07-25</td>\n",
       "      <td>2159175b9efe66dc301f149d3d5abf8c</td>\n",
       "      <td>1371816915</td>\n",
       "      <td>28.812398</td>\n",
       "      <td>-80.883061</td>\n",
       "      <td>0</td>\n",
       "    </tr>\n",
       "    <tr>\n",
       "      <th>4</th>\n",
       "      <td>2020-06-21 12:15:17</td>\n",
       "      <td>3526826139003047</td>\n",
       "      <td>fraud_Johnston-Casper</td>\n",
       "      <td>travel</td>\n",
       "      <td>3.19</td>\n",
       "      <td>Nathan</td>\n",
       "      <td>Massey</td>\n",
       "      <td>M</td>\n",
       "      <td>5783 Evan Roads Apt. 465</td>\n",
       "      <td>Falmouth</td>\n",
       "      <td>...</td>\n",
       "      <td>44.2529</td>\n",
       "      <td>-85.0170</td>\n",
       "      <td>1126</td>\n",
       "      <td>Furniture designer</td>\n",
       "      <td>1955-07-06</td>\n",
       "      <td>57ff021bd3f328f8738bb535c302a31b</td>\n",
       "      <td>1371816917</td>\n",
       "      <td>44.959148</td>\n",
       "      <td>-85.884734</td>\n",
       "      <td>0</td>\n",
       "    </tr>\n",
       "  </tbody>\n",
       "</table>\n",
       "<p>5 rows × 22 columns</p>\n",
       "</div>"
      ],
      "text/plain": [
       "  trans_date_trans_time            cc_num  \\\n",
       "0   2020-06-21 12:14:25  2291163933867244   \n",
       "1   2020-06-21 12:14:33  3573030041201292   \n",
       "2   2020-06-21 12:14:53  3598215285024754   \n",
       "3   2020-06-21 12:15:15  3591919803438423   \n",
       "4   2020-06-21 12:15:17  3526826139003047   \n",
       "\n",
       "                               merchant        category    amt   first  \\\n",
       "0                 fraud_Kirlin and Sons   personal_care   2.86    Jeff   \n",
       "1                  fraud_Sporer-Keebler   personal_care  29.84  Joanne   \n",
       "2  fraud_Swaniawski, Nitzsche and Welch  health_fitness  41.28  Ashley   \n",
       "3                     fraud_Haley Group        misc_pos  60.05   Brian   \n",
       "4                 fraud_Johnston-Casper          travel   3.19  Nathan   \n",
       "\n",
       "       last gender                       street        city  ...      lat  \\\n",
       "0   Elliott      M            351 Darlene Green    Columbia  ...  33.9659   \n",
       "1  Williams      F             3638 Marsh Union     Altonah  ...  40.3207   \n",
       "2     Lopez      F         9333 Valentine Point    Bellmore  ...  40.6729   \n",
       "3  Williams      M  32941 Krystal Mill Apt. 552  Titusville  ...  28.5697   \n",
       "4    Massey      M     5783 Evan Roads Apt. 465    Falmouth  ...  44.2529   \n",
       "\n",
       "       long  city_pop                     job         dob  \\\n",
       "0  -80.9355    333497     Mechanical engineer  1968-03-19   \n",
       "1 -110.4360       302  Sales professional, IT  1990-01-17   \n",
       "2  -73.5365     34496       Librarian, public  1970-10-21   \n",
       "3  -80.8191     54767            Set designer  1987-07-25   \n",
       "4  -85.0170      1126      Furniture designer  1955-07-06   \n",
       "\n",
       "                          trans_num   unix_time  merch_lat  merch_long  \\\n",
       "0  2da90c7d74bd46a0caf3777415b3ebd3  1371816865  33.986391  -81.200714   \n",
       "1  324cc204407e99f51b0d6ca0055005e7  1371816873  39.450498 -109.960431   \n",
       "2  c81755dbbbea9d5c77f094348a7579be  1371816893  40.495810  -74.196111   \n",
       "3  2159175b9efe66dc301f149d3d5abf8c  1371816915  28.812398  -80.883061   \n",
       "4  57ff021bd3f328f8738bb535c302a31b  1371816917  44.959148  -85.884734   \n",
       "\n",
       "   is_fraud  \n",
       "0         0  \n",
       "1         0  \n",
       "2         0  \n",
       "3         0  \n",
       "4         0  \n",
       "\n",
       "[5 rows x 22 columns]"
      ]
     },
     "execution_count": 4,
     "metadata": {},
     "output_type": "execute_result"
    }
   ],
   "source": [
    "train_data.head()"
   ]
  },
  {
   "cell_type": "markdown",
   "id": "b8cd96a9",
   "metadata": {
    "papermill": {
     "duration": 0.012103,
     "end_time": "2024-04-04T02:20:50.995585",
     "exception": false,
     "start_time": "2024-04-04T02:20:50.983482",
     "status": "completed"
    },
    "tags": []
   },
   "source": [
    "# Data preprocessing"
   ]
  },
  {
   "cell_type": "code",
   "execution_count": 5,
   "id": "f36a51f9",
   "metadata": {
    "execution": {
     "iopub.execute_input": "2024-04-04T02:20:51.022822Z",
     "iopub.status.busy": "2024-04-04T02:20:51.022307Z",
     "iopub.status.idle": "2024-04-04T02:20:52.292644Z",
     "shell.execute_reply": "2024-04-04T02:20:52.291080Z"
    },
    "papermill": {
     "duration": 1.287928,
     "end_time": "2024-04-04T02:20:52.295915",
     "exception": false,
     "start_time": "2024-04-04T02:20:51.007987",
     "status": "completed"
    },
    "tags": []
   },
   "outputs": [],
   "source": [
    "#Change data type from obj to datetime\n",
    "for col in [\"trans_date_trans_time\", \"dob\"]:\n",
    "    train_data[col] = pd.to_datetime(train_data[col])\n",
    "    test_data[col] = pd.to_datetime(test_data[col])"
   ]
  },
  {
   "cell_type": "code",
   "execution_count": 6,
   "id": "5f655e92",
   "metadata": {
    "execution": {
     "iopub.execute_input": "2024-04-04T02:20:52.324069Z",
     "iopub.status.busy": "2024-04-04T02:20:52.323623Z",
     "iopub.status.idle": "2024-04-04T02:20:52.334958Z",
     "shell.execute_reply": "2024-04-04T02:20:52.333463Z"
    },
    "papermill": {
     "duration": 0.028061,
     "end_time": "2024-04-04T02:20:52.337692",
     "exception": false,
     "start_time": "2024-04-04T02:20:52.309631",
     "status": "completed"
    },
    "tags": []
   },
   "outputs": [
    {
     "data": {
      "text/plain": [
       "trans_date_trans_time    datetime64[ns]\n",
       "cc_num                            int64\n",
       "merchant                         object\n",
       "category                         object\n",
       "amt                             float64\n",
       "first                            object\n",
       "last                             object\n",
       "gender                           object\n",
       "street                           object\n",
       "city                             object\n",
       "state                            object\n",
       "zip                               int64\n",
       "lat                             float64\n",
       "long                            float64\n",
       "city_pop                          int64\n",
       "job                              object\n",
       "dob                      datetime64[ns]\n",
       "trans_num                        object\n",
       "unix_time                         int64\n",
       "merch_lat                       float64\n",
       "merch_long                      float64\n",
       "is_fraud                          int64\n",
       "dtype: object"
      ]
     },
     "execution_count": 6,
     "metadata": {},
     "output_type": "execute_result"
    }
   ],
   "source": [
    "train_data.dtypes"
   ]
  },
  {
   "cell_type": "code",
   "execution_count": 7,
   "id": "8b86d132",
   "metadata": {
    "execution": {
     "iopub.execute_input": "2024-04-04T02:20:52.365207Z",
     "iopub.status.busy": "2024-04-04T02:20:52.364756Z",
     "iopub.status.idle": "2024-04-04T02:20:52.664882Z",
     "shell.execute_reply": "2024-04-04T02:20:52.663274Z"
    },
    "papermill": {
     "duration": 0.317837,
     "end_time": "2024-04-04T02:20:52.668333",
     "exception": false,
     "start_time": "2024-04-04T02:20:52.350496",
     "status": "completed"
    },
    "tags": []
   },
   "outputs": [],
   "source": [
    "train_data = train_data.drop(columns=['cc_num','first', 'last', 'street', 'city', 'state', 'zip', 'dob', 'trans_num','trans_date_trans_time'])\n",
    "test_data = test_data.drop(columns=['cc_num','first', 'last', 'street', 'city', 'state', 'zip', 'dob', 'trans_num','trans_date_trans_time'])"
   ]
  },
  {
   "cell_type": "code",
   "execution_count": 8,
   "id": "c6b108a7",
   "metadata": {
    "execution": {
     "iopub.execute_input": "2024-04-04T02:20:52.697041Z",
     "iopub.status.busy": "2024-04-04T02:20:52.696580Z",
     "iopub.status.idle": "2024-04-04T02:20:52.718192Z",
     "shell.execute_reply": "2024-04-04T02:20:52.716794Z"
    },
    "papermill": {
     "duration": 0.03896,
     "end_time": "2024-04-04T02:20:52.720984",
     "exception": false,
     "start_time": "2024-04-04T02:20:52.682024",
     "status": "completed"
    },
    "tags": []
   },
   "outputs": [
    {
     "data": {
      "text/html": [
       "<div>\n",
       "<style scoped>\n",
       "    .dataframe tbody tr th:only-of-type {\n",
       "        vertical-align: middle;\n",
       "    }\n",
       "\n",
       "    .dataframe tbody tr th {\n",
       "        vertical-align: top;\n",
       "    }\n",
       "\n",
       "    .dataframe thead th {\n",
       "        text-align: right;\n",
       "    }\n",
       "</style>\n",
       "<table border=\"1\" class=\"dataframe\">\n",
       "  <thead>\n",
       "    <tr style=\"text-align: right;\">\n",
       "      <th></th>\n",
       "      <th>merchant</th>\n",
       "      <th>category</th>\n",
       "      <th>amt</th>\n",
       "      <th>gender</th>\n",
       "      <th>lat</th>\n",
       "      <th>long</th>\n",
       "      <th>city_pop</th>\n",
       "      <th>job</th>\n",
       "      <th>unix_time</th>\n",
       "      <th>merch_lat</th>\n",
       "      <th>merch_long</th>\n",
       "      <th>is_fraud</th>\n",
       "    </tr>\n",
       "  </thead>\n",
       "  <tbody>\n",
       "    <tr>\n",
       "      <th>0</th>\n",
       "      <td>fraud_Kirlin and Sons</td>\n",
       "      <td>personal_care</td>\n",
       "      <td>2.86</td>\n",
       "      <td>M</td>\n",
       "      <td>33.9659</td>\n",
       "      <td>-80.9355</td>\n",
       "      <td>333497</td>\n",
       "      <td>Mechanical engineer</td>\n",
       "      <td>1371816865</td>\n",
       "      <td>33.986391</td>\n",
       "      <td>-81.200714</td>\n",
       "      <td>0</td>\n",
       "    </tr>\n",
       "    <tr>\n",
       "      <th>1</th>\n",
       "      <td>fraud_Sporer-Keebler</td>\n",
       "      <td>personal_care</td>\n",
       "      <td>29.84</td>\n",
       "      <td>F</td>\n",
       "      <td>40.3207</td>\n",
       "      <td>-110.4360</td>\n",
       "      <td>302</td>\n",
       "      <td>Sales professional, IT</td>\n",
       "      <td>1371816873</td>\n",
       "      <td>39.450498</td>\n",
       "      <td>-109.960431</td>\n",
       "      <td>0</td>\n",
       "    </tr>\n",
       "    <tr>\n",
       "      <th>2</th>\n",
       "      <td>fraud_Swaniawski, Nitzsche and Welch</td>\n",
       "      <td>health_fitness</td>\n",
       "      <td>41.28</td>\n",
       "      <td>F</td>\n",
       "      <td>40.6729</td>\n",
       "      <td>-73.5365</td>\n",
       "      <td>34496</td>\n",
       "      <td>Librarian, public</td>\n",
       "      <td>1371816893</td>\n",
       "      <td>40.495810</td>\n",
       "      <td>-74.196111</td>\n",
       "      <td>0</td>\n",
       "    </tr>\n",
       "    <tr>\n",
       "      <th>3</th>\n",
       "      <td>fraud_Haley Group</td>\n",
       "      <td>misc_pos</td>\n",
       "      <td>60.05</td>\n",
       "      <td>M</td>\n",
       "      <td>28.5697</td>\n",
       "      <td>-80.8191</td>\n",
       "      <td>54767</td>\n",
       "      <td>Set designer</td>\n",
       "      <td>1371816915</td>\n",
       "      <td>28.812398</td>\n",
       "      <td>-80.883061</td>\n",
       "      <td>0</td>\n",
       "    </tr>\n",
       "    <tr>\n",
       "      <th>4</th>\n",
       "      <td>fraud_Johnston-Casper</td>\n",
       "      <td>travel</td>\n",
       "      <td>3.19</td>\n",
       "      <td>M</td>\n",
       "      <td>44.2529</td>\n",
       "      <td>-85.0170</td>\n",
       "      <td>1126</td>\n",
       "      <td>Furniture designer</td>\n",
       "      <td>1371816917</td>\n",
       "      <td>44.959148</td>\n",
       "      <td>-85.884734</td>\n",
       "      <td>0</td>\n",
       "    </tr>\n",
       "  </tbody>\n",
       "</table>\n",
       "</div>"
      ],
      "text/plain": [
       "                               merchant        category    amt gender  \\\n",
       "0                 fraud_Kirlin and Sons   personal_care   2.86      M   \n",
       "1                  fraud_Sporer-Keebler   personal_care  29.84      F   \n",
       "2  fraud_Swaniawski, Nitzsche and Welch  health_fitness  41.28      F   \n",
       "3                     fraud_Haley Group        misc_pos  60.05      M   \n",
       "4                 fraud_Johnston-Casper          travel   3.19      M   \n",
       "\n",
       "       lat      long  city_pop                     job   unix_time  merch_lat  \\\n",
       "0  33.9659  -80.9355    333497     Mechanical engineer  1371816865  33.986391   \n",
       "1  40.3207 -110.4360       302  Sales professional, IT  1371816873  39.450498   \n",
       "2  40.6729  -73.5365     34496       Librarian, public  1371816893  40.495810   \n",
       "3  28.5697  -80.8191     54767            Set designer  1371816915  28.812398   \n",
       "4  44.2529  -85.0170      1126      Furniture designer  1371816917  44.959148   \n",
       "\n",
       "   merch_long  is_fraud  \n",
       "0  -81.200714         0  \n",
       "1 -109.960431         0  \n",
       "2  -74.196111         0  \n",
       "3  -80.883061         0  \n",
       "4  -85.884734         0  "
      ]
     },
     "execution_count": 8,
     "metadata": {},
     "output_type": "execute_result"
    }
   ],
   "source": [
    "train_data.head()"
   ]
  },
  {
   "cell_type": "markdown",
   "id": "4ba3e285",
   "metadata": {
    "papermill": {
     "duration": 0.012719,
     "end_time": "2024-04-04T02:20:52.746837",
     "exception": false,
     "start_time": "2024-04-04T02:20:52.734118",
     "status": "completed"
    },
    "tags": []
   },
   "source": [
    "# Encode categorical features"
   ]
  },
  {
   "cell_type": "code",
   "execution_count": 9,
   "id": "67a8455c",
   "metadata": {
    "execution": {
     "iopub.execute_input": "2024-04-04T02:20:52.774958Z",
     "iopub.status.busy": "2024-04-04T02:20:52.774476Z",
     "iopub.status.idle": "2024-04-04T02:20:54.277932Z",
     "shell.execute_reply": "2024-04-04T02:20:54.276382Z"
    },
    "papermill": {
     "duration": 1.52106,
     "end_time": "2024-04-04T02:20:54.281008",
     "exception": false,
     "start_time": "2024-04-04T02:20:52.759948",
     "status": "completed"
    },
    "tags": []
   },
   "outputs": [],
   "source": [
    "#Encode categorical features\n",
    "from sklearn.preprocessing import LabelEncoder"
   ]
  },
  {
   "cell_type": "code",
   "execution_count": 10,
   "id": "ff755bfe",
   "metadata": {
    "execution": {
     "iopub.execute_input": "2024-04-04T02:20:54.310021Z",
     "iopub.status.busy": "2024-04-04T02:20:54.309546Z",
     "iopub.status.idle": "2024-04-04T02:20:56.483659Z",
     "shell.execute_reply": "2024-04-04T02:20:56.482046Z"
    },
    "papermill": {
     "duration": 2.192085,
     "end_time": "2024-04-04T02:20:56.486664",
     "exception": false,
     "start_time": "2024-04-04T02:20:54.294579",
     "status": "completed"
    },
    "tags": []
   },
   "outputs": [],
   "source": [
    "encoder = LabelEncoder()\n",
    "for col in [\"merchant\", \"category\",\"gender\", \"job\"]:\n",
    "        train_data[col] = encoder.fit_transform(train_data[col])\n",
    "        test_data[col] = encoder.fit_transform(test_data[col])"
   ]
  },
  {
   "cell_type": "code",
   "execution_count": 11,
   "id": "71aadae4",
   "metadata": {
    "execution": {
     "iopub.execute_input": "2024-04-04T02:20:56.514581Z",
     "iopub.status.busy": "2024-04-04T02:20:56.514052Z",
     "iopub.status.idle": "2024-04-04T02:20:56.537219Z",
     "shell.execute_reply": "2024-04-04T02:20:56.536274Z"
    },
    "papermill": {
     "duration": 0.040207,
     "end_time": "2024-04-04T02:20:56.539828",
     "exception": false,
     "start_time": "2024-04-04T02:20:56.499621",
     "status": "completed"
    },
    "tags": []
   },
   "outputs": [
    {
     "data": {
      "text/html": [
       "<div>\n",
       "<style scoped>\n",
       "    .dataframe tbody tr th:only-of-type {\n",
       "        vertical-align: middle;\n",
       "    }\n",
       "\n",
       "    .dataframe tbody tr th {\n",
       "        vertical-align: top;\n",
       "    }\n",
       "\n",
       "    .dataframe thead th {\n",
       "        text-align: right;\n",
       "    }\n",
       "</style>\n",
       "<table border=\"1\" class=\"dataframe\">\n",
       "  <thead>\n",
       "    <tr style=\"text-align: right;\">\n",
       "      <th></th>\n",
       "      <th>merchant</th>\n",
       "      <th>category</th>\n",
       "      <th>amt</th>\n",
       "      <th>gender</th>\n",
       "      <th>lat</th>\n",
       "      <th>long</th>\n",
       "      <th>city_pop</th>\n",
       "      <th>job</th>\n",
       "      <th>unix_time</th>\n",
       "      <th>merch_lat</th>\n",
       "      <th>merch_long</th>\n",
       "      <th>is_fraud</th>\n",
       "    </tr>\n",
       "  </thead>\n",
       "  <tbody>\n",
       "    <tr>\n",
       "      <th>0</th>\n",
       "      <td>319</td>\n",
       "      <td>10</td>\n",
       "      <td>2.86</td>\n",
       "      <td>1</td>\n",
       "      <td>33.9659</td>\n",
       "      <td>-80.9355</td>\n",
       "      <td>333497</td>\n",
       "      <td>275</td>\n",
       "      <td>1371816865</td>\n",
       "      <td>33.986391</td>\n",
       "      <td>-81.200714</td>\n",
       "      <td>0</td>\n",
       "    </tr>\n",
       "    <tr>\n",
       "      <th>1</th>\n",
       "      <td>591</td>\n",
       "      <td>10</td>\n",
       "      <td>29.84</td>\n",
       "      <td>0</td>\n",
       "      <td>40.3207</td>\n",
       "      <td>-110.4360</td>\n",
       "      <td>302</td>\n",
       "      <td>392</td>\n",
       "      <td>1371816873</td>\n",
       "      <td>39.450498</td>\n",
       "      <td>-109.960431</td>\n",
       "      <td>0</td>\n",
       "    </tr>\n",
       "    <tr>\n",
       "      <th>2</th>\n",
       "      <td>611</td>\n",
       "      <td>5</td>\n",
       "      <td>41.28</td>\n",
       "      <td>0</td>\n",
       "      <td>40.6729</td>\n",
       "      <td>-73.5365</td>\n",
       "      <td>34496</td>\n",
       "      <td>259</td>\n",
       "      <td>1371816893</td>\n",
       "      <td>40.495810</td>\n",
       "      <td>-74.196111</td>\n",
       "      <td>0</td>\n",
       "    </tr>\n",
       "    <tr>\n",
       "      <th>3</th>\n",
       "      <td>222</td>\n",
       "      <td>9</td>\n",
       "      <td>60.05</td>\n",
       "      <td>1</td>\n",
       "      <td>28.5697</td>\n",
       "      <td>-80.8191</td>\n",
       "      <td>54767</td>\n",
       "      <td>407</td>\n",
       "      <td>1371816915</td>\n",
       "      <td>28.812398</td>\n",
       "      <td>-80.883061</td>\n",
       "      <td>0</td>\n",
       "    </tr>\n",
       "    <tr>\n",
       "      <th>4</th>\n",
       "      <td>292</td>\n",
       "      <td>13</td>\n",
       "      <td>3.19</td>\n",
       "      <td>1</td>\n",
       "      <td>44.2529</td>\n",
       "      <td>-85.0170</td>\n",
       "      <td>1126</td>\n",
       "      <td>196</td>\n",
       "      <td>1371816917</td>\n",
       "      <td>44.959148</td>\n",
       "      <td>-85.884734</td>\n",
       "      <td>0</td>\n",
       "    </tr>\n",
       "  </tbody>\n",
       "</table>\n",
       "</div>"
      ],
      "text/plain": [
       "   merchant  category    amt  gender      lat      long  city_pop  job  \\\n",
       "0       319        10   2.86       1  33.9659  -80.9355    333497  275   \n",
       "1       591        10  29.84       0  40.3207 -110.4360       302  392   \n",
       "2       611         5  41.28       0  40.6729  -73.5365     34496  259   \n",
       "3       222         9  60.05       1  28.5697  -80.8191     54767  407   \n",
       "4       292        13   3.19       1  44.2529  -85.0170      1126  196   \n",
       "\n",
       "    unix_time  merch_lat  merch_long  is_fraud  \n",
       "0  1371816865  33.986391  -81.200714         0  \n",
       "1  1371816873  39.450498 -109.960431         0  \n",
       "2  1371816893  40.495810  -74.196111         0  \n",
       "3  1371816915  28.812398  -80.883061         0  \n",
       "4  1371816917  44.959148  -85.884734         0  "
      ]
     },
     "execution_count": 11,
     "metadata": {},
     "output_type": "execute_result"
    }
   ],
   "source": [
    "train_data.head()"
   ]
  },
  {
   "cell_type": "markdown",
   "id": "08f6f797",
   "metadata": {
    "papermill": {
     "duration": 0.012896,
     "end_time": "2024-04-04T02:20:56.565992",
     "exception": false,
     "start_time": "2024-04-04T02:20:56.553096",
     "status": "completed"
    },
    "tags": []
   },
   "source": [
    "# Balancing Data"
   ]
  },
  {
   "cell_type": "code",
   "execution_count": 12,
   "id": "594c0d19",
   "metadata": {
    "execution": {
     "iopub.execute_input": "2024-04-04T02:20:56.594786Z",
     "iopub.status.busy": "2024-04-04T02:20:56.594307Z",
     "iopub.status.idle": "2024-04-04T02:20:56.612083Z",
     "shell.execute_reply": "2024-04-04T02:20:56.610655Z"
    },
    "papermill": {
     "duration": 0.035289,
     "end_time": "2024-04-04T02:20:56.614798",
     "exception": false,
     "start_time": "2024-04-04T02:20:56.579509",
     "status": "completed"
    },
    "tags": []
   },
   "outputs": [
    {
     "data": {
      "text/plain": [
       "is_fraud\n",
       "0    553574\n",
       "1      2145\n",
       "Name: count, dtype: int64"
      ]
     },
     "execution_count": 12,
     "metadata": {},
     "output_type": "execute_result"
    }
   ],
   "source": [
    "train_data[\"is_fraud\"].value_counts()"
   ]
  },
  {
   "cell_type": "code",
   "execution_count": 13,
   "id": "d7cbd781",
   "metadata": {
    "execution": {
     "iopub.execute_input": "2024-04-04T02:20:56.646311Z",
     "iopub.status.busy": "2024-04-04T02:20:56.645793Z",
     "iopub.status.idle": "2024-04-04T02:20:56.668728Z",
     "shell.execute_reply": "2024-04-04T02:20:56.667356Z"
    },
    "papermill": {
     "duration": 0.042445,
     "end_time": "2024-04-04T02:20:56.671514",
     "exception": false,
     "start_time": "2024-04-04T02:20:56.629069",
     "status": "completed"
    },
    "tags": []
   },
   "outputs": [
    {
     "data": {
      "text/plain": [
       "is_fraud\n",
       "0    1289169\n",
       "1       7506\n",
       "Name: count, dtype: int64"
      ]
     },
     "execution_count": 13,
     "metadata": {},
     "output_type": "execute_result"
    }
   ],
   "source": [
    "test_data[\"is_fraud\"].value_counts()"
   ]
  },
  {
   "cell_type": "code",
   "execution_count": 14,
   "id": "427de761",
   "metadata": {
    "execution": {
     "iopub.execute_input": "2024-04-04T02:20:56.702399Z",
     "iopub.status.busy": "2024-04-04T02:20:56.701876Z",
     "iopub.status.idle": "2024-04-04T02:20:56.972785Z",
     "shell.execute_reply": "2024-04-04T02:20:56.971013Z"
    },
    "papermill": {
     "duration": 0.291875,
     "end_time": "2024-04-04T02:20:56.977478",
     "exception": false,
     "start_time": "2024-04-04T02:20:56.685603",
     "status": "completed"
    },
    "tags": []
   },
   "outputs": [
    {
     "data": {
      "image/png": "[encoded data removed]",
      "text/plain": [
       "<Figure size 800x400 with 1 Axes>"
      ]
     },
     "metadata": {},
     "output_type": "display_data"
    }
   ],
   "source": [
    "#visualisation data set\n",
    "is_fraud = train_data[\"is_fraud\"].value_counts()\n",
    "plt.figure(figsize=(8, 4))\n",
    "plt.subplot(1, 2, 1)  # Subplot for the pie chart\n",
    "plt.pie(is_fraud, labels=[\"No\", \"YES\"], autopct=\"%0.3f%%\")\n",
    "plt.title(\"is_fraud Counts\")\n",
    "plt.tight_layout()  # Adjust layout to prevent overlapping\n",
    "plt.show()"
   ]
  },
  {
   "cell_type": "code",
   "execution_count": 15,
   "id": "3cc59687",
   "metadata": {
    "execution": {
     "iopub.execute_input": "2024-04-04T02:20:57.030183Z",
     "iopub.status.busy": "2024-04-04T02:20:57.028828Z",
     "iopub.status.idle": "2024-04-04T02:20:57.097368Z",
     "shell.execute_reply": "2024-04-04T02:20:57.095943Z"
    },
    "papermill": {
     "duration": 0.092936,
     "end_time": "2024-04-04T02:20:57.100712",
     "exception": false,
     "start_time": "2024-04-04T02:20:57.007776",
     "status": "completed"
    },
    "tags": []
   },
   "outputs": [],
   "source": [
    "#We have to minimize the size oF our dataFrame to decrease Fitting time \n",
    "df_fraud = train_data[train_data[\"is_fraud\"]==1]\n",
    "df_Notfraud = train_data[train_data[\"is_fraud\"]==0]"
   ]
  },
  {
   "cell_type": "code",
   "execution_count": 16,
   "id": "2cb9ae86",
   "metadata": {
    "execution": {
     "iopub.execute_input": "2024-04-04T02:20:57.131016Z",
     "iopub.status.busy": "2024-04-04T02:20:57.130511Z",
     "iopub.status.idle": "2024-04-04T02:20:57.136512Z",
     "shell.execute_reply": "2024-04-04T02:20:57.135241Z"
    },
    "papermill": {
     "duration": 0.024171,
     "end_time": "2024-04-04T02:20:57.139186",
     "exception": false,
     "start_time": "2024-04-04T02:20:57.115015",
     "status": "completed"
    },
    "tags": []
   },
   "outputs": [],
   "source": [
    "df_Notfraud = df_Notfraud.iloc[:6000]"
   ]
  },
  {
   "cell_type": "code",
   "execution_count": 17,
   "id": "8a050bb9",
   "metadata": {
    "execution": {
     "iopub.execute_input": "2024-04-04T02:20:57.169477Z",
     "iopub.status.busy": "2024-04-04T02:20:57.168944Z",
     "iopub.status.idle": "2024-04-04T02:20:57.178356Z",
     "shell.execute_reply": "2024-04-04T02:20:57.176942Z"
    },
    "papermill": {
     "duration": 0.027974,
     "end_time": "2024-04-04T02:20:57.181182",
     "exception": false,
     "start_time": "2024-04-04T02:20:57.153208",
     "status": "completed"
    },
    "tags": []
   },
   "outputs": [],
   "source": [
    "newTrainData = pd.concat([df_Notfraud, df_fraud], axis=0)"
   ]
  },
  {
   "cell_type": "code",
   "execution_count": 18,
   "id": "6e56678b",
   "metadata": {
    "execution": {
     "iopub.execute_input": "2024-04-04T02:20:57.211358Z",
     "iopub.status.busy": "2024-04-04T02:20:57.210831Z",
     "iopub.status.idle": "2024-04-04T02:20:57.218031Z",
     "shell.execute_reply": "2024-04-04T02:20:57.217125Z"
    },
    "papermill": {
     "duration": 0.025197,
     "end_time": "2024-04-04T02:20:57.220494",
     "exception": false,
     "start_time": "2024-04-04T02:20:57.195297",
     "status": "completed"
    },
    "tags": []
   },
   "outputs": [
    {
     "data": {
      "text/plain": [
       "(8145, 12)"
      ]
     },
     "execution_count": 18,
     "metadata": {},
     "output_type": "execute_result"
    }
   ],
   "source": [
    "newTrainData.shape"
   ]
  },
  {
   "cell_type": "code",
   "execution_count": 19,
   "id": "614e6487",
   "metadata": {
    "execution": {
     "iopub.execute_input": "2024-04-04T02:20:57.250959Z",
     "iopub.status.busy": "2024-04-04T02:20:57.250449Z",
     "iopub.status.idle": "2024-04-04T02:20:57.262547Z",
     "shell.execute_reply": "2024-04-04T02:20:57.260831Z"
    },
    "papermill": {
     "duration": 0.031298,
     "end_time": "2024-04-04T02:20:57.265873",
     "exception": false,
     "start_time": "2024-04-04T02:20:57.234575",
     "status": "completed"
    },
    "tags": []
   },
   "outputs": [],
   "source": [
    "# Shuffle the DataFrame\n",
    "newTrainData = newTrainData.sample(frac=1, random_state=2020).reset_index(drop=True)"
   ]
  },
  {
   "cell_type": "code",
   "execution_count": 20,
   "id": "9b62092a",
   "metadata": {
    "execution": {
     "iopub.execute_input": "2024-04-04T02:20:57.299468Z",
     "iopub.status.busy": "2024-04-04T02:20:57.298934Z",
     "iopub.status.idle": "2024-04-04T02:20:57.320659Z",
     "shell.execute_reply": "2024-04-04T02:20:57.319072Z"
    },
    "papermill": {
     "duration": 0.042625,
     "end_time": "2024-04-04T02:20:57.323177",
     "exception": false,
     "start_time": "2024-04-04T02:20:57.280552",
     "status": "completed"
    },
    "tags": []
   },
   "outputs": [
    {
     "data": {
      "text/html": [
       "<div>\n",
       "<style scoped>\n",
       "    .dataframe tbody tr th:only-of-type {\n",
       "        vertical-align: middle;\n",
       "    }\n",
       "\n",
       "    .dataframe tbody tr th {\n",
       "        vertical-align: top;\n",
       "    }\n",
       "\n",
       "    .dataframe thead th {\n",
       "        text-align: right;\n",
       "    }\n",
       "</style>\n",
       "<table border=\"1\" class=\"dataframe\">\n",
       "  <thead>\n",
       "    <tr style=\"text-align: right;\">\n",
       "      <th></th>\n",
       "      <th>merchant</th>\n",
       "      <th>category</th>\n",
       "      <th>amt</th>\n",
       "      <th>gender</th>\n",
       "      <th>lat</th>\n",
       "      <th>long</th>\n",
       "      <th>city_pop</th>\n",
       "      <th>job</th>\n",
       "      <th>unix_time</th>\n",
       "      <th>merch_lat</th>\n",
       "      <th>merch_long</th>\n",
       "      <th>is_fraud</th>\n",
       "    </tr>\n",
       "  </thead>\n",
       "  <tbody>\n",
       "    <tr>\n",
       "      <th>0</th>\n",
       "      <td>571</td>\n",
       "      <td>5</td>\n",
       "      <td>85.41</td>\n",
       "      <td>1</td>\n",
       "      <td>38.1380</td>\n",
       "      <td>-89.2231</td>\n",
       "      <td>2135</td>\n",
       "      <td>123</td>\n",
       "      <td>1371842221</td>\n",
       "      <td>38.164050</td>\n",
       "      <td>-89.068749</td>\n",
       "      <td>0</td>\n",
       "    </tr>\n",
       "    <tr>\n",
       "      <th>1</th>\n",
       "      <td>656</td>\n",
       "      <td>12</td>\n",
       "      <td>799.56</td>\n",
       "      <td>1</td>\n",
       "      <td>44.8605</td>\n",
       "      <td>-85.8138</td>\n",
       "      <td>3096</td>\n",
       "      <td>409</td>\n",
       "      <td>1376264276</td>\n",
       "      <td>45.616036</td>\n",
       "      <td>-86.750347</td>\n",
       "      <td>1</td>\n",
       "    </tr>\n",
       "    <tr>\n",
       "      <th>2</th>\n",
       "      <td>300</td>\n",
       "      <td>8</td>\n",
       "      <td>809.83</td>\n",
       "      <td>0</td>\n",
       "      <td>33.3305</td>\n",
       "      <td>-105.6933</td>\n",
       "      <td>8874</td>\n",
       "      <td>260</td>\n",
       "      <td>1379985277</td>\n",
       "      <td>32.842035</td>\n",
       "      <td>-104.904134</td>\n",
       "      <td>1</td>\n",
       "    </tr>\n",
       "    <tr>\n",
       "      <th>3</th>\n",
       "      <td>380</td>\n",
       "      <td>5</td>\n",
       "      <td>17.62</td>\n",
       "      <td>1</td>\n",
       "      <td>38.4921</td>\n",
       "      <td>-85.4524</td>\n",
       "      <td>564</td>\n",
       "      <td>320</td>\n",
       "      <td>1371908861</td>\n",
       "      <td>38.213306</td>\n",
       "      <td>-86.091533</td>\n",
       "      <td>0</td>\n",
       "    </tr>\n",
       "    <tr>\n",
       "      <th>4</th>\n",
       "      <td>235</td>\n",
       "      <td>8</td>\n",
       "      <td>8.43</td>\n",
       "      <td>0</td>\n",
       "      <td>38.4121</td>\n",
       "      <td>-75.2811</td>\n",
       "      <td>718</td>\n",
       "      <td>377</td>\n",
       "      <td>1371867719</td>\n",
       "      <td>38.425790</td>\n",
       "      <td>-74.808462</td>\n",
       "      <td>0</td>\n",
       "    </tr>\n",
       "    <tr>\n",
       "      <th>5</th>\n",
       "      <td>273</td>\n",
       "      <td>2</td>\n",
       "      <td>12.21</td>\n",
       "      <td>1</td>\n",
       "      <td>42.0144</td>\n",
       "      <td>-88.0935</td>\n",
       "      <td>92294</td>\n",
       "      <td>81</td>\n",
       "      <td>1383185632</td>\n",
       "      <td>41.529882</td>\n",
       "      <td>-87.425220</td>\n",
       "      <td>1</td>\n",
       "    </tr>\n",
       "    <tr>\n",
       "      <th>6</th>\n",
       "      <td>611</td>\n",
       "      <td>5</td>\n",
       "      <td>106.15</td>\n",
       "      <td>0</td>\n",
       "      <td>41.1826</td>\n",
       "      <td>-92.3097</td>\n",
       "      <td>1583</td>\n",
       "      <td>203</td>\n",
       "      <td>1371928432</td>\n",
       "      <td>41.307873</td>\n",
       "      <td>-92.439250</td>\n",
       "      <td>0</td>\n",
       "    </tr>\n",
       "    <tr>\n",
       "      <th>7</th>\n",
       "      <td>613</td>\n",
       "      <td>3</td>\n",
       "      <td>46.46</td>\n",
       "      <td>0</td>\n",
       "      <td>38.0261</td>\n",
       "      <td>-97.6666</td>\n",
       "      <td>1689</td>\n",
       "      <td>199</td>\n",
       "      <td>1371869216</td>\n",
       "      <td>37.979640</td>\n",
       "      <td>-97.664979</td>\n",
       "      <td>0</td>\n",
       "    </tr>\n",
       "    <tr>\n",
       "      <th>8</th>\n",
       "      <td>185</td>\n",
       "      <td>5</td>\n",
       "      <td>48.25</td>\n",
       "      <td>0</td>\n",
       "      <td>39.9148</td>\n",
       "      <td>-80.7310</td>\n",
       "      <td>16183</td>\n",
       "      <td>327</td>\n",
       "      <td>1371905418</td>\n",
       "      <td>39.448495</td>\n",
       "      <td>-80.903197</td>\n",
       "      <td>0</td>\n",
       "    </tr>\n",
       "    <tr>\n",
       "      <th>9</th>\n",
       "      <td>283</td>\n",
       "      <td>1</td>\n",
       "      <td>23.84</td>\n",
       "      <td>1</td>\n",
       "      <td>41.5403</td>\n",
       "      <td>-122.9366</td>\n",
       "      <td>308</td>\n",
       "      <td>55</td>\n",
       "      <td>1371912795</td>\n",
       "      <td>41.152373</td>\n",
       "      <td>-122.226867</td>\n",
       "      <td>0</td>\n",
       "    </tr>\n",
       "  </tbody>\n",
       "</table>\n",
       "</div>"
      ],
      "text/plain": [
       "   merchant  category     amt  gender      lat      long  city_pop  job  \\\n",
       "0       571         5   85.41       1  38.1380  -89.2231      2135  123   \n",
       "1       656        12  799.56       1  44.8605  -85.8138      3096  409   \n",
       "2       300         8  809.83       0  33.3305 -105.6933      8874  260   \n",
       "3       380         5   17.62       1  38.4921  -85.4524       564  320   \n",
       "4       235         8    8.43       0  38.4121  -75.2811       718  377   \n",
       "5       273         2   12.21       1  42.0144  -88.0935     92294   81   \n",
       "6       611         5  106.15       0  41.1826  -92.3097      1583  203   \n",
       "7       613         3   46.46       0  38.0261  -97.6666      1689  199   \n",
       "8       185         5   48.25       0  39.9148  -80.7310     16183  327   \n",
       "9       283         1   23.84       1  41.5403 -122.9366       308   55   \n",
       "\n",
       "    unix_time  merch_lat  merch_long  is_fraud  \n",
       "0  1371842221  38.164050  -89.068749         0  \n",
       "1  1376264276  45.616036  -86.750347         1  \n",
       "2  1379985277  32.842035 -104.904134         1  \n",
       "3  1371908861  38.213306  -86.091533         0  \n",
       "4  1371867719  38.425790  -74.808462         0  \n",
       "5  1383185632  41.529882  -87.425220         1  \n",
       "6  1371928432  41.307873  -92.439250         0  \n",
       "7  1371869216  37.979640  -97.664979         0  \n",
       "8  1371905418  39.448495  -80.903197         0  \n",
       "9  1371912795  41.152373 -122.226867         0  "
      ]
     },
     "execution_count": 20,
     "metadata": {},
     "output_type": "execute_result"
    }
   ],
   "source": [
    "newTrainData.head(10)"
   ]
  },
  {
   "cell_type": "code",
   "execution_count": 21,
   "id": "d0df7412",
   "metadata": {
    "execution": {
     "iopub.execute_input": "2024-04-04T02:20:57.355474Z",
     "iopub.status.busy": "2024-04-04T02:20:57.354107Z",
     "iopub.status.idle": "2024-04-04T02:20:58.839503Z",
     "shell.execute_reply": "2024-04-04T02:20:58.838356Z"
    },
    "papermill": {
     "duration": 1.505715,
     "end_time": "2024-04-04T02:20:58.843539",
     "exception": false,
     "start_time": "2024-04-04T02:20:57.337824",
     "status": "completed"
    },
    "tags": []
   },
   "outputs": [
    {
     "data": {
      "text/plain": [
       "<Axes: >"
      ]
     },
     "execution_count": 21,
     "metadata": {},
     "output_type": "execute_result"
    },
    {
     "data": {
      "image/png": "[encoded data removed]",
      "text/plain": [
       "<Figure size 1500x800 with 2 Axes>"
      ]
     },
     "metadata": {},
     "output_type": "display_data"
    }
   ],
   "source": [
    "import seaborn as sns\n",
    "plt.figure(figsize=(15, 8))\n",
    "sns.heatmap(newTrainData.corr(), annot=True, cmap=\"YlGnBu\")"
   ]
  },
  {
   "cell_type": "markdown",
   "id": "251385e3",
   "metadata": {
    "papermill": {
     "duration": 0.016642,
     "end_time": "2024-04-04T02:20:58.878225",
     "exception": false,
     "start_time": "2024-04-04T02:20:58.861583",
     "status": "completed"
    },
    "tags": []
   },
   "source": [
    "**As we can see, there is a strong correlation between the 'is_fraud' column and the 'unix_time' and 'amt' columns.**"
   ]
  },
  {
   "cell_type": "code",
   "execution_count": 22,
   "id": "22a67c2c",
   "metadata": {
    "execution": {
     "iopub.execute_input": "2024-04-04T02:20:58.915635Z",
     "iopub.status.busy": "2024-04-04T02:20:58.914845Z",
     "iopub.status.idle": "2024-04-04T02:20:59.117214Z",
     "shell.execute_reply": "2024-04-04T02:20:59.115161Z"
    },
    "papermill": {
     "duration": 0.226456,
     "end_time": "2024-04-04T02:20:59.122332",
     "exception": false,
     "start_time": "2024-04-04T02:20:58.895876",
     "status": "completed"
    },
    "tags": []
   },
   "outputs": [
    {
     "data": {
      "image/png": "[encoded data removed]",
      "text/plain": [
       "<Figure size 800x400 with 1 Axes>"
      ]
     },
     "metadata": {},
     "output_type": "display_data"
    }
   ],
   "source": [
    "#visualisation data set\n",
    "is_fraud = newTrainData[\"is_fraud\"].value_counts()\n",
    "plt.figure(figsize=(8, 4))\n",
    "plt.subplot(1, 2, 1)  # Subplot for the pie chart\n",
    "plt.pie(is_fraud, labels=[\"No\", \"YES\"], autopct=\"%0.3f%%\")\n",
    "plt.title(\"is_fraud Counts\")\n",
    "plt.tight_layout()  # Adjust layout to prevent overlapping\n",
    "plt.show()"
   ]
  },
  {
   "cell_type": "code",
   "execution_count": 23,
   "id": "6d92d6cc",
   "metadata": {
    "execution": {
     "iopub.execute_input": "2024-04-04T02:20:59.189540Z",
     "iopub.status.busy": "2024-04-04T02:20:59.188088Z",
     "iopub.status.idle": "2024-04-04T02:20:59.212914Z",
     "shell.execute_reply": "2024-04-04T02:20:59.211146Z"
    },
    "papermill": {
     "duration": 0.056405,
     "end_time": "2024-04-04T02:20:59.216339",
     "exception": false,
     "start_time": "2024-04-04T02:20:59.159934",
     "status": "completed"
    },
    "tags": []
   },
   "outputs": [],
   "source": [
    "df_train = newTrainData[[\"amt\", \"unix_time\", \"is_fraud\"]]\n",
    "df_test = test_data[[\"amt\", \"unix_time\", \"is_fraud\"]]"
   ]
  },
  {
   "cell_type": "code",
   "execution_count": 24,
   "id": "c4678714",
   "metadata": {
    "execution": {
     "iopub.execute_input": "2024-04-04T02:20:59.255821Z",
     "iopub.status.busy": "2024-04-04T02:20:59.255035Z",
     "iopub.status.idle": "2024-04-04T02:20:59.261817Z",
     "shell.execute_reply": "2024-04-04T02:20:59.260580Z"
    },
    "papermill": {
     "duration": 0.029507,
     "end_time": "2024-04-04T02:20:59.264986",
     "exception": false,
     "start_time": "2024-04-04T02:20:59.235479",
     "status": "completed"
    },
    "tags": []
   },
   "outputs": [
    {
     "data": {
      "text/plain": [
       "(1296675, 3)"
      ]
     },
     "execution_count": 24,
     "metadata": {},
     "output_type": "execute_result"
    }
   ],
   "source": [
    "df_test.shape"
   ]
  },
  {
   "cell_type": "code",
   "execution_count": 25,
   "id": "6e9b5ee4",
   "metadata": {
    "execution": {
     "iopub.execute_input": "2024-04-04T02:20:59.304380Z",
     "iopub.status.busy": "2024-04-04T02:20:59.303436Z",
     "iopub.status.idle": "2024-04-04T02:20:59.311331Z",
     "shell.execute_reply": "2024-04-04T02:20:59.310329Z"
    },
    "papermill": {
     "duration": 0.031189,
     "end_time": "2024-04-04T02:20:59.314091",
     "exception": false,
     "start_time": "2024-04-04T02:20:59.282902",
     "status": "completed"
    },
    "tags": []
   },
   "outputs": [
    {
     "data": {
      "text/plain": [
       "(8145, 3)"
      ]
     },
     "execution_count": 25,
     "metadata": {},
     "output_type": "execute_result"
    }
   ],
   "source": [
    "df_train.shape"
   ]
  },
  {
   "cell_type": "code",
   "execution_count": 26,
   "id": "aef462b0",
   "metadata": {
    "execution": {
     "iopub.execute_input": "2024-04-04T02:20:59.353358Z",
     "iopub.status.busy": "2024-04-04T02:20:59.351835Z",
     "iopub.status.idle": "2024-04-04T02:20:59.377631Z",
     "shell.execute_reply": "2024-04-04T02:20:59.376390Z"
    },
    "papermill": {
     "duration": 0.048609,
     "end_time": "2024-04-04T02:20:59.380698",
     "exception": false,
     "start_time": "2024-04-04T02:20:59.332089",
     "status": "completed"
    },
    "tags": []
   },
   "outputs": [],
   "source": [
    "X = df_train.drop([\"is_fraud\"], axis=1)\n",
    "y = df_train[\"is_fraud\"]\n",
    "\n",
    "X_test = df_test.drop([\"is_fraud\"], axis=1)\n",
    "y_test = df_test[\"is_fraud\"]"
   ]
  },
  {
   "cell_type": "markdown",
   "id": "6b87e199",
   "metadata": {
    "papermill": {
     "duration": 0.017278,
     "end_time": "2024-04-04T02:20:59.416179",
     "exception": false,
     "start_time": "2024-04-04T02:20:59.398901",
     "status": "completed"
    },
    "tags": []
   },
   "source": [
    "#  implement logistic regression model"
   ]
  },
  {
   "cell_type": "code",
   "execution_count": 27,
   "id": "787cdd64",
   "metadata": {
    "execution": {
     "iopub.execute_input": "2024-04-04T02:20:59.454362Z",
     "iopub.status.busy": "2024-04-04T02:20:59.453525Z",
     "iopub.status.idle": "2024-04-04T02:20:59.715556Z",
     "shell.execute_reply": "2024-04-04T02:20:59.714039Z"
    },
    "papermill": {
     "duration": 0.284837,
     "end_time": "2024-04-04T02:20:59.718813",
     "exception": false,
     "start_time": "2024-04-04T02:20:59.433976",
     "status": "completed"
    },
    "tags": []
   },
   "outputs": [],
   "source": [
    "from sklearn.linear_model import LogisticRegression\n",
    "from sklearn.metrics import accuracy_score, classification_report"
   ]
  },
  {
   "cell_type": "code",
   "execution_count": 28,
   "id": "c3e18f55",
   "metadata": {
    "execution": {
     "iopub.execute_input": "2024-04-04T02:20:59.756882Z",
     "iopub.status.busy": "2024-04-04T02:20:59.755841Z",
     "iopub.status.idle": "2024-04-04T02:20:59.799517Z",
     "shell.execute_reply": "2024-04-04T02:20:59.798204Z"
    },
    "papermill": {
     "duration": 0.067111,
     "end_time": "2024-04-04T02:20:59.803658",
     "exception": false,
     "start_time": "2024-04-04T02:20:59.736547",
     "status": "completed"
    },
    "tags": []
   },
   "outputs": [
    {
     "data": {
      "text/html": [
       "<style>#sk-container-id-1 {color: black;background-color: white;}#sk-container-id-1 pre{padding: 0;}#sk-container-id-1 div.sk-toggleable {background-color: white;}#sk-container-id-1 label.sk-toggleable__label {cursor: pointer;display: block;width: 100%;margin-bottom: 0;padding: 0.3em;box-sizing: border-box;text-align: center;}#sk-container-id-1 label.sk-toggleable__label-arrow:before {content: \"▸\";float: left;margin-right: 0.25em;color: #696969;}#sk-container-id-1 label.sk-toggleable__label-arrow:hover:before {color: black;}#sk-container-id-1 div.sk-estimator:hover label.sk-toggleable__label-arrow:before {color: black;}#sk-container-id-1 div.sk-toggleable__content {max-height: 0;max-width: 0;overflow: hidden;text-align: left;background-color: #f0f8ff;}#sk-container-id-1 div.sk-toggleable__content pre {margin: 0.2em;color: black;border-radius: 0.25em;background-color: #f0f8ff;}#sk-container-id-1 input.sk-toggleable__control:checked~div.sk-toggleable__content {max-height: 200px;max-width: 100%;overflow: auto;}#sk-container-id-1 input.sk-toggleable__control:checked~label.sk-toggleable__label-arrow:before {content: \"▾\";}#sk-container-id-1 div.sk-estimator input.sk-toggleable__control:checked~label.sk-toggleable__label {background-color: #d4ebff;}#sk-container-id-1 div.sk-label input.sk-toggleable__control:checked~label.sk-toggleable__label {background-color: #d4ebff;}#sk-container-id-1 input.sk-hidden--visually {border: 0;clip: rect(1px 1px 1px 1px);clip: rect(1px, 1px, 1px, 1px);height: 1px;margin: -1px;overflow: hidden;padding: 0;position: absolute;width: 1px;}#sk-container-id-1 div.sk-estimator {font-family: monospace;background-color: #f0f8ff;border: 1px dotted black;border-radius: 0.25em;box-sizing: border-box;margin-bottom: 0.5em;}#sk-container-id-1 div.sk-estimator:hover {background-color: #d4ebff;}#sk-container-id-1 div.sk-parallel-item::after {content: \"\";width: 100%;border-bottom: 1px solid gray;flex-grow: 1;}#sk-container-id-1 div.sk-label:hover label.sk-toggleable__label {background-color: #d4ebff;}#sk-container-id-1 div.sk-serial::before {content: \"\";position: absolute;border-left: 1px solid gray;box-sizing: border-box;top: 0;bottom: 0;left: 50%;z-index: 0;}#sk-container-id-1 div.sk-serial {display: flex;flex-direction: column;align-items: center;background-color: white;padding-right: 0.2em;padding-left: 0.2em;position: relative;}#sk-container-id-1 div.sk-item {position: relative;z-index: 1;}#sk-container-id-1 div.sk-parallel {display: flex;align-items: stretch;justify-content: center;background-color: white;position: relative;}#sk-container-id-1 div.sk-item::before, #sk-container-id-1 div.sk-parallel-item::before {content: \"\";position: absolute;border-left: 1px solid gray;box-sizing: border-box;top: 0;bottom: 0;left: 50%;z-index: -1;}#sk-container-id-1 div.sk-parallel-item {display: flex;flex-direction: column;z-index: 1;position: relative;background-color: white;}#sk-container-id-1 div.sk-parallel-item:first-child::after {align-self: flex-end;width: 50%;}#sk-container-id-1 div.sk-parallel-item:last-child::after {align-self: flex-start;width: 50%;}#sk-container-id-1 div.sk-parallel-item:only-child::after {width: 0;}#sk-container-id-1 div.sk-dashed-wrapped {border: 1px dashed gray;margin: 0 0.4em 0.5em 0.4em;box-sizing: border-box;padding-bottom: 0.4em;background-color: white;}#sk-container-id-1 div.sk-label label {font-family: monospace;font-weight: bold;display: inline-block;line-height: 1.2em;}#sk-container-id-1 div.sk-label-container {text-align: center;}#sk-container-id-1 div.sk-container {/* jupyter's `normalize.less` sets `[hidden] { display: none; }` but bootstrap.min.css set `[hidden] { display: none !important; }` so we also need the `!important` here to be able to override the default hidden behavior on the sphinx rendered scikit-learn.org. See: https://github.com/scikit-learn/scikit-learn/issues/21755 */display: inline-block !important;position: relative;}#sk-container-id-1 div.sk-text-repr-fallback {display: none;}</style><div id=\"sk-container-id-1\" class=\"sk-top-container\"><div class=\"sk-text-repr-fallback\"><pre>LogisticRegression()</pre><b>In a Jupyter environment, please rerun this cell to show the HTML representation or trust the notebook. <br />On GitHub, the HTML representation is unable to render, please try loading this page with nbviewer.org.</b></div><div class=\"sk-container\" hidden><div class=\"sk-item\"><div class=\"sk-estimator sk-toggleable\"><input class=\"sk-toggleable__control sk-hidden--visually\" id=\"sk-estimator-id-1\" type=\"checkbox\" checked><label for=\"sk-estimator-id-1\" class=\"sk-toggleable__label sk-toggleable__label-arrow\">LogisticRegression</label><div class=\"sk-toggleable__content\"><pre>LogisticRegression()</pre></div></div></div></div></div>"
      ],
      "text/plain": [
       "LogisticRegression()"
      ]
     },
     "execution_count": 28,
     "metadata": {},
     "output_type": "execute_result"
    }
   ],
   "source": [
    "logreg = LogisticRegression()\n",
    "logreg.fit(X, y)"
   ]
  },
  {
   "cell_type": "code",
   "execution_count": 29,
   "id": "bd5718e0",
   "metadata": {
    "execution": {
     "iopub.execute_input": "2024-04-04T02:20:59.885594Z",
     "iopub.status.busy": "2024-04-04T02:20:59.884793Z",
     "iopub.status.idle": "2024-04-04T02:20:59.943097Z",
     "shell.execute_reply": "2024-04-04T02:20:59.941337Z"
    },
    "papermill": {
     "duration": 0.103908,
     "end_time": "2024-04-04T02:20:59.947855",
     "exception": false,
     "start_time": "2024-04-04T02:20:59.843947",
     "status": "completed"
    },
    "tags": []
   },
   "outputs": [],
   "source": [
    "y_pred = logreg.predict(X_test)"
   ]
  },
  {
   "cell_type": "code",
   "execution_count": 30,
   "id": "50be20f8",
   "metadata": {
    "execution": {
     "iopub.execute_input": "2024-04-04T02:21:00.026425Z",
     "iopub.status.busy": "2024-04-04T02:21:00.025639Z",
     "iopub.status.idle": "2024-04-04T02:21:00.175932Z",
     "shell.execute_reply": "2024-04-04T02:21:00.174591Z"
    },
    "papermill": {
     "duration": 0.193261,
     "end_time": "2024-04-04T02:21:00.179000",
     "exception": false,
     "start_time": "2024-04-04T02:20:59.985739",
     "status": "completed"
    },
    "tags": []
   },
   "outputs": [
    {
     "name": "stdout",
     "output_type": "stream",
     "text": [
      "Accuracy: 0.9942113482561166\n"
     ]
    }
   ],
   "source": [
    "accuracy = accuracy_score(y_test, y_pred)\n",
    "print(\"Accuracy:\", accuracy)"
   ]
  },
  {
   "cell_type": "code",
   "execution_count": 31,
   "id": "67fa121b",
   "metadata": {
    "execution": {
     "iopub.execute_input": "2024-04-04T02:21:00.218236Z",
     "iopub.status.busy": "2024-04-04T02:21:00.217455Z",
     "iopub.status.idle": "2024-04-04T02:21:02.725035Z",
     "shell.execute_reply": "2024-04-04T02:21:02.723670Z"
    },
    "papermill": {
     "duration": 2.533029,
     "end_time": "2024-04-04T02:21:02.730246",
     "exception": false,
     "start_time": "2024-04-04T02:21:00.197217",
     "status": "completed"
    },
    "tags": []
   },
   "outputs": [
    {
     "name": "stdout",
     "output_type": "stream",
     "text": [
      "Classification Report:\n"
     ]
    },
    {
     "name": "stderr",
     "output_type": "stream",
     "text": [
      "/opt/conda/lib/python3.10/site-packages/sklearn/metrics/_classification.py:1344: UndefinedMetricWarning: Precision and F-score are ill-defined and being set to 0.0 in labels with no predicted samples. Use `zero_division` parameter to control this behavior.\n",
      "  _warn_prf(average, modifier, msg_start, len(result))\n",
      "/opt/conda/lib/python3.10/site-packages/sklearn/metrics/_classification.py:1344: UndefinedMetricWarning: Precision and F-score are ill-defined and being set to 0.0 in labels with no predicted samples. Use `zero_division` parameter to control this behavior.\n",
      "  _warn_prf(average, modifier, msg_start, len(result))\n"
     ]
    },
    {
     "name": "stdout",
     "output_type": "stream",
     "text": [
      "              precision    recall  f1-score   support\n",
      "\n",
      "           0       0.99      1.00      1.00   1289169\n",
      "           1       0.00      0.00      0.00      7506\n",
      "\n",
      "    accuracy                           0.99   1296675\n",
      "   macro avg       0.50      0.50      0.50   1296675\n",
      "weighted avg       0.99      0.99      0.99   1296675\n",
      "\n"
     ]
    },
    {
     "name": "stderr",
     "output_type": "stream",
     "text": [
      "/opt/conda/lib/python3.10/site-packages/sklearn/metrics/_classification.py:1344: UndefinedMetricWarning: Precision and F-score are ill-defined and being set to 0.0 in labels with no predicted samples. Use `zero_division` parameter to control this behavior.\n",
      "  _warn_prf(average, modifier, msg_start, len(result))\n"
     ]
    }
   ],
   "source": [
    "print(\"Classification Report:\")\n",
    "print(classification_report(y_test, y_pred))"
   ]
  }
 ],
 "metadata": {
  "kaggle": {
   "accelerator": "none",
   "dataSources": [
    {
     "datasetId": 4527032,
     "sourceId": 7744502,
     "sourceType": "datasetVersion"
    }
   ],
   "dockerImageVersionId": 30673,
   "isGpuEnabled": false,
   "isInternetEnabled": false,
   "language": "python",
   "sourceType": "notebook"
  },
  "kernelspec": {
   "display_name": "Python 3",
   "language": "python",
   "name": "python3"
  },
  "language_info": {
   "codemirror_mode": {
    "name": "ipython",
    "version": 3
   },
   "file_extension": ".py",
   "mimetype": "text/x-python",
   "name": "python",
   "nbconvert_exporter": "python",
   "pygments_lexer": "ipython3",
   "version": "3.10.13"
  },
  "papermill": {
   "default_parameters": {},
   "duration": 39.68308,
   "end_time": "2024-04-04T02:21:03.874973",
   "environment_variables": {},
   "exception": null,
   "input_path": "__notebook__.ipynb",
   "output_path": "__notebook__.ipynb",
   "parameters": {},
   "start_time": "2024-04-04T02:20:24.191893",
   "version": "2.5.0"
  }
 },
 "nbformat": 4,
 "nbformat_minor": 5
}
